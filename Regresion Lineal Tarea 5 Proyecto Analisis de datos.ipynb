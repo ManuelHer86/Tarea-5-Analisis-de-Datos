{
 "cells": [
  {
   "cell_type": "markdown",
   "id": "89313b7d-c5fd-4995-81fd-84e9289e9c66",
   "metadata": {},
   "source": [
    "# **Regresión Lineal Dataset Titanic.**"
   ]
  },
  {
   "cell_type": "markdown",
   "id": "eb7bd45a-6dca-4503-9b0e-a33854a82843",
   "metadata": {},
   "source": [
    "## **UNAD** \n",
    "## **Tarea 5** - **Proyecto Análisis de datos.**\n",
    "## **Manuel Ricardo Hernández.**\n",
    "## **Grupo Colaborativo 202016908A_1704.** "
   ]
  },
  {
   "cell_type": "markdown",
   "id": "1211f957-e91a-476f-8936-773f0d6feed8",
   "metadata": {},
   "source": [
    "## Pasos de la Actividad:\n",
    "1. Realizar un análisis exploratorio de los datos para identificar\n",
    "relaciones entre variables, valores atípicos, tendencias, etc.\n",
    "2. Preprocesar los datos limpiándolos, tratando valores faltantes y\n",
    "transformándolos según sea necesario.\n",
    "3. Seleccionar las características más relevantes para entrenar el \n",
    "modelo utilizando selección de características.\n",
    "4. Dividir el dataset en Train y Test para evaluar correctamente el modelo.\n",
    "5. Entrenar el modelo configurando los diferentes hiperparámetros.\n",
    "6. Evaluar el desempeño del modelo en el conjunto de Test con métricas como precisión, recall, F1-score, etc.\n",
    "7. Realizar las diferentes gráficas que permitan visualizar los resultados del modelo.\n",
    "8. Interpretar, analizar y documentar los resultados obtenidos.\n",
    "9.  Crear una cuenta en GitHub y cargar los códigos de los modelos\n",
    "diseñados https://github.com/"
   ]
  },
  {
   "cell_type": "markdown",
   "id": "db9fc034-d5ca-46eb-82c2-0faeab1900ec",
   "metadata": {},
   "source": [
    "# 1. Realizar un análisis exploratorio de los datos para identificar relaciones entre variables, valores atípicos, tendencias, etc."
   ]
  },
  {
   "cell_type": "code",
   "execution_count": 4,
   "id": "2743c005-818f-4d01-bde4-aca3fa02e534",
   "metadata": {},
   "outputs": [],
   "source": [
    "#Cargue de librerias.  \n",
    "\n",
    "import pandas as pd \n",
    "import numpy as np \n",
    "import seaborn as sns\n",
    "import matplotlib.pyplot as plt\n",
    "\n",
    "from sklearn.model_selection import train_test_split\n",
    "from sklearn.linear_model import LinearRegression\n",
    "from sklearn.metrics import classification_report, confusion_matrix"
   ]
  },
  {
   "cell_type": "code",
   "execution_count": 5,
   "id": "8cfe1e3c-379a-4f6f-b31c-c3ab8d0bd5db",
   "metadata": {},
   "outputs": [],
   "source": [
    "Datos_Titanic = pd.read_csv('C:/Users/sopor/OneDrive - Universidad Nacional Abierta y a Distancia/ANALISIS DE DATOS/Entrega 5/Dataset/Titanic.csv')"
   ]
  },
  {
   "cell_type": "code",
   "execution_count": 6,
   "id": "c258954c-774b-488c-be19-ca63c8bf348c",
   "metadata": {},
   "outputs": [
    {
     "data": {
      "text/html": [
       "<div>\n",
       "<style scoped>\n",
       "    .dataframe tbody tr th:only-of-type {\n",
       "        vertical-align: middle;\n",
       "    }\n",
       "\n",
       "    .dataframe tbody tr th {\n",
       "        vertical-align: top;\n",
       "    }\n",
       "\n",
       "    .dataframe thead th {\n",
       "        text-align: right;\n",
       "    }\n",
       "</style>\n",
       "<table border=\"1\" class=\"dataframe\">\n",
       "  <thead>\n",
       "    <tr style=\"text-align: right;\">\n",
       "      <th></th>\n",
       "      <th>PassengerId</th>\n",
       "      <th>Survived</th>\n",
       "      <th>Pclass</th>\n",
       "      <th>Name</th>\n",
       "      <th>Sex</th>\n",
       "      <th>Age</th>\n",
       "      <th>SibSp</th>\n",
       "      <th>Parch</th>\n",
       "      <th>Ticket</th>\n",
       "      <th>Fare</th>\n",
       "      <th>Cabin</th>\n",
       "      <th>Embarked</th>\n",
       "    </tr>\n",
       "  </thead>\n",
       "  <tbody>\n",
       "    <tr>\n",
       "      <th>0</th>\n",
       "      <td>1</td>\n",
       "      <td>0</td>\n",
       "      <td>3</td>\n",
       "      <td>Braund, Mr. Owen Harris</td>\n",
       "      <td>male</td>\n",
       "      <td>22.0</td>\n",
       "      <td>1</td>\n",
       "      <td>0</td>\n",
       "      <td>A/5 21171</td>\n",
       "      <td>7.2500</td>\n",
       "      <td>NaN</td>\n",
       "      <td>S</td>\n",
       "    </tr>\n",
       "    <tr>\n",
       "      <th>1</th>\n",
       "      <td>2</td>\n",
       "      <td>1</td>\n",
       "      <td>1</td>\n",
       "      <td>Cumings, Mrs. John Bradley (Florence Briggs Th...</td>\n",
       "      <td>female</td>\n",
       "      <td>38.0</td>\n",
       "      <td>1</td>\n",
       "      <td>0</td>\n",
       "      <td>PC 17599</td>\n",
       "      <td>71.2833</td>\n",
       "      <td>C85</td>\n",
       "      <td>C</td>\n",
       "    </tr>\n",
       "    <tr>\n",
       "      <th>2</th>\n",
       "      <td>3</td>\n",
       "      <td>1</td>\n",
       "      <td>3</td>\n",
       "      <td>Heikkinen, Miss. Laina</td>\n",
       "      <td>female</td>\n",
       "      <td>26.0</td>\n",
       "      <td>0</td>\n",
       "      <td>0</td>\n",
       "      <td>STON/O2. 3101282</td>\n",
       "      <td>7.9250</td>\n",
       "      <td>NaN</td>\n",
       "      <td>S</td>\n",
       "    </tr>\n",
       "    <tr>\n",
       "      <th>3</th>\n",
       "      <td>4</td>\n",
       "      <td>1</td>\n",
       "      <td>1</td>\n",
       "      <td>Futrelle, Mrs. Jacques Heath (Lily May Peel)</td>\n",
       "      <td>female</td>\n",
       "      <td>35.0</td>\n",
       "      <td>1</td>\n",
       "      <td>0</td>\n",
       "      <td>113803</td>\n",
       "      <td>53.1000</td>\n",
       "      <td>C123</td>\n",
       "      <td>S</td>\n",
       "    </tr>\n",
       "    <tr>\n",
       "      <th>4</th>\n",
       "      <td>5</td>\n",
       "      <td>0</td>\n",
       "      <td>3</td>\n",
       "      <td>Allen, Mr. William Henry</td>\n",
       "      <td>male</td>\n",
       "      <td>35.0</td>\n",
       "      <td>0</td>\n",
       "      <td>0</td>\n",
       "      <td>373450</td>\n",
       "      <td>8.0500</td>\n",
       "      <td>NaN</td>\n",
       "      <td>S</td>\n",
       "    </tr>\n",
       "    <tr>\n",
       "      <th>...</th>\n",
       "      <td>...</td>\n",
       "      <td>...</td>\n",
       "      <td>...</td>\n",
       "      <td>...</td>\n",
       "      <td>...</td>\n",
       "      <td>...</td>\n",
       "      <td>...</td>\n",
       "      <td>...</td>\n",
       "      <td>...</td>\n",
       "      <td>...</td>\n",
       "      <td>...</td>\n",
       "      <td>...</td>\n",
       "    </tr>\n",
       "    <tr>\n",
       "      <th>886</th>\n",
       "      <td>887</td>\n",
       "      <td>0</td>\n",
       "      <td>2</td>\n",
       "      <td>Montvila, Rev. Juozas</td>\n",
       "      <td>male</td>\n",
       "      <td>27.0</td>\n",
       "      <td>0</td>\n",
       "      <td>0</td>\n",
       "      <td>211536</td>\n",
       "      <td>13.0000</td>\n",
       "      <td>NaN</td>\n",
       "      <td>S</td>\n",
       "    </tr>\n",
       "    <tr>\n",
       "      <th>887</th>\n",
       "      <td>888</td>\n",
       "      <td>1</td>\n",
       "      <td>1</td>\n",
       "      <td>Graham, Miss. Margaret Edith</td>\n",
       "      <td>female</td>\n",
       "      <td>19.0</td>\n",
       "      <td>0</td>\n",
       "      <td>0</td>\n",
       "      <td>112053</td>\n",
       "      <td>30.0000</td>\n",
       "      <td>B42</td>\n",
       "      <td>S</td>\n",
       "    </tr>\n",
       "    <tr>\n",
       "      <th>888</th>\n",
       "      <td>889</td>\n",
       "      <td>0</td>\n",
       "      <td>3</td>\n",
       "      <td>Johnston, Miss. Catherine Helen \"Carrie\"</td>\n",
       "      <td>female</td>\n",
       "      <td>NaN</td>\n",
       "      <td>1</td>\n",
       "      <td>2</td>\n",
       "      <td>W./C. 6607</td>\n",
       "      <td>23.4500</td>\n",
       "      <td>NaN</td>\n",
       "      <td>S</td>\n",
       "    </tr>\n",
       "    <tr>\n",
       "      <th>889</th>\n",
       "      <td>890</td>\n",
       "      <td>1</td>\n",
       "      <td>1</td>\n",
       "      <td>Behr, Mr. Karl Howell</td>\n",
       "      <td>male</td>\n",
       "      <td>26.0</td>\n",
       "      <td>0</td>\n",
       "      <td>0</td>\n",
       "      <td>111369</td>\n",
       "      <td>30.0000</td>\n",
       "      <td>C148</td>\n",
       "      <td>C</td>\n",
       "    </tr>\n",
       "    <tr>\n",
       "      <th>890</th>\n",
       "      <td>891</td>\n",
       "      <td>0</td>\n",
       "      <td>3</td>\n",
       "      <td>Dooley, Mr. Patrick</td>\n",
       "      <td>male</td>\n",
       "      <td>32.0</td>\n",
       "      <td>0</td>\n",
       "      <td>0</td>\n",
       "      <td>370376</td>\n",
       "      <td>7.7500</td>\n",
       "      <td>NaN</td>\n",
       "      <td>Q</td>\n",
       "    </tr>\n",
       "  </tbody>\n",
       "</table>\n",
       "<p>891 rows × 12 columns</p>\n",
       "</div>"
      ],
      "text/plain": [
       "     PassengerId  Survived  Pclass  \\\n",
       "0              1         0       3   \n",
       "1              2         1       1   \n",
       "2              3         1       3   \n",
       "3              4         1       1   \n",
       "4              5         0       3   \n",
       "..           ...       ...     ...   \n",
       "886          887         0       2   \n",
       "887          888         1       1   \n",
       "888          889         0       3   \n",
       "889          890         1       1   \n",
       "890          891         0       3   \n",
       "\n",
       "                                                  Name     Sex   Age  SibSp  \\\n",
       "0                              Braund, Mr. Owen Harris    male  22.0      1   \n",
       "1    Cumings, Mrs. John Bradley (Florence Briggs Th...  female  38.0      1   \n",
       "2                               Heikkinen, Miss. Laina  female  26.0      0   \n",
       "3         Futrelle, Mrs. Jacques Heath (Lily May Peel)  female  35.0      1   \n",
       "4                             Allen, Mr. William Henry    male  35.0      0   \n",
       "..                                                 ...     ...   ...    ...   \n",
       "886                              Montvila, Rev. Juozas    male  27.0      0   \n",
       "887                       Graham, Miss. Margaret Edith  female  19.0      0   \n",
       "888           Johnston, Miss. Catherine Helen \"Carrie\"  female   NaN      1   \n",
       "889                              Behr, Mr. Karl Howell    male  26.0      0   \n",
       "890                                Dooley, Mr. Patrick    male  32.0      0   \n",
       "\n",
       "     Parch            Ticket     Fare Cabin Embarked  \n",
       "0        0         A/5 21171   7.2500   NaN        S  \n",
       "1        0          PC 17599  71.2833   C85        C  \n",
       "2        0  STON/O2. 3101282   7.9250   NaN        S  \n",
       "3        0            113803  53.1000  C123        S  \n",
       "4        0            373450   8.0500   NaN        S  \n",
       "..     ...               ...      ...   ...      ...  \n",
       "886      0            211536  13.0000   NaN        S  \n",
       "887      0            112053  30.0000   B42        S  \n",
       "888      2        W./C. 6607  23.4500   NaN        S  \n",
       "889      0            111369  30.0000  C148        C  \n",
       "890      0            370376   7.7500   NaN        Q  \n",
       "\n",
       "[891 rows x 12 columns]"
      ]
     },
     "execution_count": 6,
     "metadata": {},
     "output_type": "execute_result"
    }
   ],
   "source": [
    "# Datos en Python para el EDA. \n",
    "Datos_Titanic.head(892)"
   ]
  },
  {
   "cell_type": "code",
   "execution_count": 10,
   "id": "8cf8571e-d1df-4c95-b3d3-d4b9013232a7",
   "metadata": {},
   "outputs": [
    {
     "data": {
      "text/plain": [
       "Text(0.5, 1.0, 'Identificación de los Datos Faltantes y Atipicos Para Datos_Titanic.')"
      ]
     },
     "execution_count": 10,
     "metadata": {},
     "output_type": "execute_result"
    },
    {
     "data": {
      "image/png": "[encoded data removed]",
      "text/plain": [
       "<Figure size 700x400 with 1 Axes>"
      ]
     },
     "metadata": {},
     "output_type": "display_data"
    }
   ],
   "source": [
    "#Datos Faltantes y Atipicos Datos Enfermedades Cardiacas. \n",
    "import pandas as pd\n",
    "import matplotlib.pyplot as plt\n",
    "\n",
    "plt.figure(figsize=(7, 4))\n",
    "sns.boxplot(x=Datos_Titanic['Pclass'])\n",
    "plt.title('Identificación de los Datos Faltantes y Atipicos Para Datos_Titanic.', fontsize=11)"
   ]
  },
  {
   "cell_type": "code",
   "execution_count": 14,
   "id": "bc8258dd-cffd-452e-b3c0-52488b8c1f06",
   "metadata": {},
   "outputs": [
    {
     "data": {
      "image/png": "[encoded data removed]",
      "text/plain": [
       "<Figure size 1000x600 with 1 Axes>"
      ]
     },
     "metadata": {},
     "output_type": "display_data"
    }
   ],
   "source": [
    "import pandas as pd\n",
    "import matplotlib.pyplot as plt\n",
    "\n",
    "# Cargar el dataset\n",
    "Datos_Titanic = pd.read_csv('C:/Users/sopor/OneDrive - Universidad Nacional Abierta y a Distancia/ANALISIS DE DATOS/Entrega 5/Dataset/Titanic.csv')\n",
    "\n",
    "# Contar los valores en la columna 'sex'\n",
    "genero = Datos_Titanic['Sex'].value_counts()\n",
    "\n",
    "# Configuración y creación del gráfico\n",
    "plt.figure(figsize=(10, 6))\n",
    "plt.bar(genero.index, genero.values, color=['skyblue', 'lightgreen'])\n",
    "\n",
    "plt.xlabel('Género', fontsize=12)\n",
    "plt.ylabel('Cantidad', fontsize=12)\n",
    "plt.title('Distribución de Género de pasajeros en el Titanic..', fontsize=15)\n",
    "plt.xticks(ticks=[0, 1], labels=[\"Mujer\", \"Hombre\"])\n",
    "\n",
    "for i, valor in enumerate(genero.values):\n",
    "    plt.annotate(str(valor), xy=(genero.index[i], valor), ha='center', va='bottom', fontsize=12)\n",
    "    \n",
    "# Mostrar el gráfico\n",
    "plt.show()\n"
   ]
  },
  {
   "cell_type": "markdown",
   "id": "d00ad00b-97b7-4bbc-9666-1a3f17ba695c",
   "metadata": {},
   "source": [
    "# 2. Preprocesar los datos limpiándolos, tratando valores faltantes y transformándolos según sea necesario."
   ]
  },
  {
   "cell_type": "code",
   "execution_count": 28,
   "id": "c7e07416-ff3e-4ec8-9fef-c5989a6b6a6c",
   "metadata": {},
   "outputs": [
    {
     "name": "stdout",
     "output_type": "stream",
     "text": [
      "Numero de Registros con cero en la columna PassengerId (ID de Pasajero):  0\n",
      "Numero de Registros con cero en la columna Survived (Sobreviviente): 549\n",
      "Numero de Registros con cero en la columna Pclass (Clase del pasajero): 0\n",
      "Numero de Registros con cero en la columna Name (Nombre): 0\n",
      "Numero de Registros con cero en la columna Sex (Genero): 0\n",
      "Numero de Registros con cero en la columna Age (Edad):  0\n",
      "Numero de Registros con cero en la columna SibSp (Parentezco): 608\n",
      "Numero de Registros con cero en la columna Parch (Padres abordo):  678\n",
      "Numero de Registros con cero en la columna Ticket (Numero de Ticket): 0\n",
      "Numero de Registros con cero en la columna Fare (Tarifa): 15\n",
      "Numero de Registros con cero en la columna Cabin (Numero de Cabina): 0\n",
      "Numero de Registros con cero en la columna Embarked (Si embarco o no al Titanic): 0\n"
     ]
    }
   ],
   "source": [
    "#Revision de datos faltantes.  \n",
    "\n",
    "print(\"Numero de Registros con cero en la columna PassengerId (ID de Pasajero): \", Datos_Titanic['PassengerId'].isin([0]).sum())\n",
    "print(\"Numero de Registros con cero en la columna Survived (Sobreviviente):\", Datos_Titanic['Survived'].isin([0]).sum())\n",
    "print(\"Numero de Registros con cero en la columna Pclass (Clase del pasajero):\", Datos_Titanic['Pclass'].isin([0]).sum())\n",
    "print(\"Numero de Registros con cero en la columna Name (Nombre):\", Datos_Titanic['Name'].isin([0]).sum())\n",
    "print(\"Numero de Registros con cero en la columna Sex (Genero):\", Datos_Titanic['Sex'].isin([0]).sum())\n",
    "print(\"Numero de Registros con cero en la columna Age (Edad): \", Datos_Titanic['Age'].isin([0]).sum())\n",
    "print(\"Numero de Registros con cero en la columna SibSp (Parentezco):\", Datos_Titanic['SibSp'].isin([0]).sum())\n",
    "print(\"Numero de Registros con cero en la columna Parch (Padres abordo): \", Datos_Titanic['Parch'].isin([0]).sum())\n",
    "print(\"Numero de Registros con cero en la columna Ticket (Numero de Ticket):\", Datos_Titanic['Ticket'].isin([0]).sum())\n",
    "print(\"Numero de Registros con cero en la columna Fare (Tarifa):\", Datos_Titanic['Fare'].isin([0]).sum())\n",
    "print(\"Numero de Registros con cero en la columna Cabin (Numero de Cabina):\", Datos_Titanic['Cabin'].isin([0]).sum())\n",
    "print(\"Numero de Registros con cero en la columna Embarked (Si embarco o no al Titanic):\", Datos_Titanic['Embarked'].isin([0]).sum())"
   ]
  },
  {
   "cell_type": "code",
   "execution_count": 30,
   "id": "41d7ab09-19d7-40d2-8faf-289e0a6435dc",
   "metadata": {},
   "outputs": [],
   "source": [
    "#Proceder a imputar todos los datos en ceros con el valor medio de la columna. \n",
    "\n",
    "Datos_Titanic['Survived']=Datos_Titanic['Survived'].replace(0,Datos_Titanic['Survived'].mean())\n",
    "Datos_Titanic['SibSp']=Datos_Titanic['SibSp'].replace(0,Datos_Titanic['SibSp'].mean())\n",
    "Datos_Titanic['Parch']=Datos_Titanic['Parch'].replace(0,Datos_Titanic['Parch'].mean())\n",
    "Datos_Titanic['Fare']=Datos_Titanic['Fare'].replace(0,Datos_Titanic['Fare'].mean())"
   ]
  },
  {
   "cell_type": "code",
   "execution_count": 32,
   "id": "0623b334-dc97-46ef-904d-0766b1ede8e6",
   "metadata": {},
   "outputs": [
    {
     "name": "stdout",
     "output_type": "stream",
     "text": [
      "Numero de Registros con cero en la columna PassengerId (ID de Pasajero):  0\n",
      "Numero de Registros con cero en la columna Survived (Sobreviviente): 0\n",
      "Numero de Registros con cero en la columna Pclass (Clase del pasajero): 0\n",
      "Numero de Registros con cero en la columna Name (Nombre): 0\n",
      "Numero de Registros con cero en la columna Sex (Genero): 0\n",
      "Numero de Registros con cero en la columna Age (Edad):  0\n",
      "Numero de Registros con cero en la columna SibSp (Parentezco): 0\n",
      "Numero de Registros con cero en la columna Parch (Padres abordo):  0\n",
      "Numero de Registros con cero en la columna Ticket (Numero de Ticket): 0\n",
      "Numero de Registros con cero en la columna Fare (Tarifa): 0\n",
      "Numero de Registros con cero en la columna Cabin (Numero de Cabina): 0\n",
      "Numero de Registros con cero en la columna Embarked (Si embarco o no al Titanic): 0\n"
     ]
    }
   ],
   "source": [
    "#Nueva revision de datos faltantes. \n",
    "print(\"Numero de Registros con cero en la columna PassengerId (ID de Pasajero): \", Datos_Titanic['PassengerId'].isin([0]).sum())\n",
    "print(\"Numero de Registros con cero en la columna Survived (Sobreviviente):\", Datos_Titanic['Survived'].isin([0]).sum())\n",
    "print(\"Numero de Registros con cero en la columna Pclass (Clase del pasajero):\", Datos_Titanic['Pclass'].isin([0]).sum())\n",
    "print(\"Numero de Registros con cero en la columna Name (Nombre):\", Datos_Titanic['Name'].isin([0]).sum())\n",
    "print(\"Numero de Registros con cero en la columna Sex (Genero):\", Datos_Titanic['Sex'].isin([0]).sum())\n",
    "print(\"Numero de Registros con cero en la columna Age (Edad): \", Datos_Titanic['Age'].isin([0]).sum())\n",
    "print(\"Numero de Registros con cero en la columna SibSp (Parentezco):\", Datos_Titanic['SibSp'].isin([0]).sum())\n",
    "print(\"Numero de Registros con cero en la columna Parch (Padres abordo): \", Datos_Titanic['Parch'].isin([0]).sum())\n",
    "print(\"Numero de Registros con cero en la columna Ticket (Numero de Ticket):\", Datos_Titanic['Ticket'].isin([0]).sum())\n",
    "print(\"Numero de Registros con cero en la columna Fare (Tarifa):\", Datos_Titanic['Fare'].isin([0]).sum())\n",
    "print(\"Numero de Registros con cero en la columna Cabin (Numero de Cabina):\", Datos_Titanic['Cabin'].isin([0]).sum())\n",
    "print(\"Numero de Registros con cero en la columna Embarked (Si embarco o no al Titanic):\", Datos_Titanic['Embarked'].isin([0]).sum())"
   ]
  },
  {
   "cell_type": "code",
   "execution_count": 36,
   "id": "adb8c886-56d5-45ad-9146-e8f3014ce620",
   "metadata": {},
   "outputs": [
    {
     "data": {
      "text/plain": [
       "Text(0.5, 1.0, 'Identificación de Datos Atipicos \"Dataset Titanic\".')"
      ]
     },
     "execution_count": 36,
     "metadata": {},
     "output_type": "execute_result"
    },
    {
     "data": {
      "image/png": "[encoded data removed]",
      "text/plain": [
       "<Figure size 700x400 with 1 Axes>"
      ]
     },
     "metadata": {},
     "output_type": "display_data"
    }
   ],
   "source": [
    "#Datos Atipicos.  \n",
    "plt.figure(figsize=(7,4))\n",
    "sns.boxplot(x=Datos_Titanic['Embarked'])\n",
    "plt.title('Identificación de Datos Atipicos \"Dataset Titanic\".',fontsize=12)"
   ]
  },
  {
   "cell_type": "code",
   "execution_count": 44,
   "id": "64e4273d-cb82-4153-8590-934de22841d8",
   "metadata": {},
   "outputs": [
    {
     "name": "stdout",
     "output_type": "stream",
     "text": [
      "Los datos atipicos de la columna Survived es de 54.\n"
     ]
    }
   ],
   "source": [
    "#Contador de Datos Atipicos.  \n",
    "nivel_minimo=0\n",
    "nivel_maximo=1\n",
    "Total_Atipico=((Datos_Titanic['SibSp']<nivel_minimo)|(Datos_Titanic['SibSp']>nivel_maximo)).sum()\n",
    "print(\"Los datos atipicos de la columna Survived es de {}.\".format(Total_Atipico))"
   ]
  },
  {
   "cell_type": "code",
   "execution_count": 48,
   "id": "36ead96d-beae-43fa-b50f-a0500e5af08c",
   "metadata": {},
   "outputs": [],
   "source": [
    "#Filtrar\n",
    "Datos_Titanic=Datos_Titanic[(Datos_Titanic['SibSp']<nivel_maximo)&(Datos_Titanic['SibSp']>nivel_minimo)]"
   ]
  },
  {
   "cell_type": "code",
   "execution_count": 50,
   "id": "4e78d8ce-ee23-4d0b-a247-39dac27592f9",
   "metadata": {},
   "outputs": [
    {
     "name": "stdout",
     "output_type": "stream",
     "text": [
      "El Total de Datos Atipicos es 0.\n"
     ]
    }
   ],
   "source": [
    "#Validar si los datos fueron removidos.  \n",
    "Total_Atipico=((Datos_Titanic['SibSp']<nivel_minimo)|(Datos_Titanic['SibSp']>nivel_maximo)).sum()\n",
    "print(\"El Total de Datos Atipicos es {}.\".format(Total_Atipico))"
   ]
  },
  {
   "cell_type": "code",
   "execution_count": 52,
   "id": "93bc2adb-f304-4eb9-a4a8-3d1e1df10811",
   "metadata": {},
   "outputs": [
    {
     "name": "stdout",
     "output_type": "stream",
     "text": [
      "<class 'pandas.core.frame.DataFrame'>\n",
      "Index: 398 entries, 4 to 890\n",
      "Data columns (total 12 columns):\n",
      " #   Column       Non-Null Count  Dtype  \n",
      "---  ------       --------------  -----  \n",
      " 0   PassengerId  398 non-null    int64  \n",
      " 1   Survived     398 non-null    float64\n",
      " 2   Pclass       398 non-null    int64  \n",
      " 3   Name         398 non-null    object \n",
      " 4   Sex          398 non-null    object \n",
      " 5   Age          296 non-null    float64\n",
      " 6   SibSp        398 non-null    float64\n",
      " 7   Parch        398 non-null    float64\n",
      " 8   Ticket       398 non-null    object \n",
      " 9   Fare         398 non-null    float64\n",
      " 10  Cabin        49 non-null     object \n",
      " 11  Embarked     398 non-null    object \n",
      "dtypes: float64(5), int64(2), object(5)\n",
      "memory usage: 40.4+ KB\n"
     ]
    }
   ],
   "source": [
    "#Revision de Tipo de datos y datos faltantes.  \n",
    "Datos_Titanic.info()"
   ]
  },
  {
   "cell_type": "markdown",
   "id": "6108a3d8-ddc3-43a0-ab48-124e7532d524",
   "metadata": {},
   "source": [
    "# 3. Seleccionar las características más relevantes para entrenar el modelo utilizando selección de características."
   ]
  },
  {
   "cell_type": "markdown",
   "id": "c326deb2-befb-4cca-8dd8-0e37659133fa",
   "metadata": {},
   "source": [
    "Caracteristicas de Interes.\n",
    "* Titanic: Si hubo sobrevivientes o no hubo. (0 es no sobrevivio y 1 si sobrevivio).\n",
    "* Vamos a predecir si una persona sobrevivieron.  "
   ]
  },
  {
   "cell_type": "markdown",
   "id": "75a6b538-0041-4e04-a8e5-51896ea5228c",
   "metadata": {},
   "source": [
    "**Personas Sobrevivientes.**  "
   ]
  },
  {
   "cell_type": "code",
   "execution_count": 58,
   "id": "edfe7599-f865-4d92-8e75-23d895e311b6",
   "metadata": {},
   "outputs": [
    {
     "data": {
      "text/plain": [
       "Survived\n",
       "0.383838    398\n",
       "Name: count, dtype: int64"
      ]
     },
     "execution_count": 58,
     "metadata": {},
     "output_type": "execute_result"
    }
   ],
   "source": [
    "Datos_Titanic['Survived'].value_counts()"
   ]
  },
  {
   "cell_type": "code",
   "execution_count": 248,
   "id": "3ee4cb06-4d5c-4220-90ec-e990469386ae",
   "metadata": {},
   "outputs": [
    {
     "data": {
      "text/html": [
       "<div>\n",
       "<style scoped>\n",
       "    .dataframe tbody tr th:only-of-type {\n",
       "        vertical-align: middle;\n",
       "    }\n",
       "\n",
       "    .dataframe tbody tr th {\n",
       "        vertical-align: top;\n",
       "    }\n",
       "\n",
       "    .dataframe thead th {\n",
       "        text-align: right;\n",
       "    }\n",
       "</style>\n",
       "<table border=\"1\" class=\"dataframe\">\n",
       "  <thead>\n",
       "    <tr style=\"text-align: right;\">\n",
       "      <th></th>\n",
       "      <th>condition</th>\n",
       "    </tr>\n",
       "  </thead>\n",
       "  <tbody>\n",
       "    <tr>\n",
       "      <th>0</th>\n",
       "      <td>0</td>\n",
       "    </tr>\n",
       "    <tr>\n",
       "      <th>1</th>\n",
       "      <td>0</td>\n",
       "    </tr>\n",
       "    <tr>\n",
       "      <th>2</th>\n",
       "      <td>0</td>\n",
       "    </tr>\n",
       "    <tr>\n",
       "      <th>3</th>\n",
       "      <td>1</td>\n",
       "    </tr>\n",
       "    <tr>\n",
       "      <th>4</th>\n",
       "      <td>0</td>\n",
       "    </tr>\n",
       "    <tr>\n",
       "      <th>5</th>\n",
       "      <td>0</td>\n",
       "    </tr>\n",
       "    <tr>\n",
       "      <th>6</th>\n",
       "      <td>0</td>\n",
       "    </tr>\n",
       "    <tr>\n",
       "      <th>7</th>\n",
       "      <td>1</td>\n",
       "    </tr>\n",
       "    <tr>\n",
       "      <th>8</th>\n",
       "      <td>0</td>\n",
       "    </tr>\n",
       "    <tr>\n",
       "      <th>9</th>\n",
       "      <td>0</td>\n",
       "    </tr>\n",
       "    <tr>\n",
       "      <th>10</th>\n",
       "      <td>1</td>\n",
       "    </tr>\n",
       "    <tr>\n",
       "      <th>11</th>\n",
       "      <td>1</td>\n",
       "    </tr>\n",
       "    <tr>\n",
       "      <th>12</th>\n",
       "      <td>1</td>\n",
       "    </tr>\n",
       "    <tr>\n",
       "      <th>13</th>\n",
       "      <td>0</td>\n",
       "    </tr>\n",
       "    <tr>\n",
       "      <th>14</th>\n",
       "      <td>0</td>\n",
       "    </tr>\n",
       "    <tr>\n",
       "      <th>15</th>\n",
       "      <td>0</td>\n",
       "    </tr>\n",
       "    <tr>\n",
       "      <th>16</th>\n",
       "      <td>0</td>\n",
       "    </tr>\n",
       "    <tr>\n",
       "      <th>17</th>\n",
       "      <td>0</td>\n",
       "    </tr>\n",
       "    <tr>\n",
       "      <th>18</th>\n",
       "      <td>1</td>\n",
       "    </tr>\n",
       "    <tr>\n",
       "      <th>19</th>\n",
       "      <td>0</td>\n",
       "    </tr>\n",
       "  </tbody>\n",
       "</table>\n",
       "</div>"
      ],
      "text/plain": [
       "    condition\n",
       "0           0\n",
       "1           0\n",
       "2           0\n",
       "3           1\n",
       "4           0\n",
       "5           0\n",
       "6           0\n",
       "7           1\n",
       "8           0\n",
       "9           0\n",
       "10          1\n",
       "11          1\n",
       "12          1\n",
       "13          0\n",
       "14          0\n",
       "15          0\n",
       "16          0\n",
       "17          0\n",
       "18          1\n",
       "19          0"
      ]
     },
     "execution_count": 248,
     "metadata": {},
     "output_type": "execute_result"
    }
   ],
   "source": [
    "Datos_Enfermedades_Cardiacas[['condition']].head(20)"
   ]
  },
  {
   "cell_type": "markdown",
   "id": "34bc6ee4-f384-4299-bc9e-bb33bf3b3678",
   "metadata": {},
   "source": [
    "# 4. Dividir el dataset en Train y Test para evaluar correctamente el modelo.  "
   ]
  },
  {
   "cell_type": "code",
   "execution_count": 60,
   "id": "80b6e06b-e4cd-49e5-97b7-509f4a4ecfce",
   "metadata": {},
   "outputs": [],
   "source": [
    "# Train (75%) - Test (25%).  \n",
    "X = Datos_Titanic.drop('Survived',axis=1)\n",
    "Y = Datos_Titanic['Survived']\n",
    "\n",
    "X_train, X_test, Y_train, Y_test = train_test_split(X,Y, test_size=0.25, stratify=Y,random_state=0)"
   ]
  },
  {
   "cell_type": "code",
   "execution_count": 62,
   "id": "7d986076-35eb-48d2-8778-b01f4ae3db11",
   "metadata": {},
   "outputs": [
    {
     "name": "stdout",
     "output_type": "stream",
     "text": [
      "     PassengerId  Pclass                               Name     Sex   Age  \\\n",
      "149          150       2  Byles, Rev. Thomas Roussel Davids    male  42.0   \n",
      "734          735       2       Troupiansky, Mr. Moses Aaron    male  23.0   \n",
      "154          155       3              Olsen, Mr. Ole Martin    male   NaN   \n",
      "658          659       2       Eitemiller, Mr. George Floyd    male  23.0   \n",
      "696          697       3                   Kelly, Mr. James    male  44.0   \n",
      "..           ...     ...                                ...     ...   ...   \n",
      "589          590       3                Murdlin, Mr. Joseph    male   NaN   \n",
      "64            65       1              Stewart, Mr. Albert A    male   NaN   \n",
      "882          883       3       Dahlberg, Miss. Gerda Ulrika  female  22.0   \n",
      "150          151       2         Bateman, Rev. Robert James    male  51.0   \n",
      "738          739       3                 Ivanoff, Mr. Kanio    male   NaN   \n",
      "\n",
      "        SibSp     Parch       Ticket     Fare Cabin Embarked  \n",
      "149  0.523008  0.381594       244310  13.0000   NaN        S  \n",
      "734  0.523008  0.381594       233639  13.0000   NaN        S  \n",
      "154  0.523008  0.381594    Fa 265302   7.3125   NaN        S  \n",
      "658  0.523008  0.381594        29751  13.0000   NaN        S  \n",
      "696  0.523008  0.381594       363592   8.0500   NaN        S  \n",
      "..        ...       ...          ...      ...   ...      ...  \n",
      "589  0.523008  0.381594   A./5. 3235   8.0500   NaN        S  \n",
      "64   0.523008  0.381594     PC 17605  27.7208   NaN        C  \n",
      "882  0.523008  0.381594         7552  10.5167   NaN        S  \n",
      "150  0.523008  0.381594  S.O.P. 1166  12.5250   NaN        S  \n",
      "738  0.523008  0.381594       349201   7.8958   NaN        S  \n",
      "\n",
      "[298 rows x 11 columns]\n"
     ]
    }
   ],
   "source": [
    "print(X_train)"
   ]
  },
  {
   "cell_type": "code",
   "execution_count": 64,
   "id": "b87d7b5e-2816-4afb-99d8-6454d40add14",
   "metadata": {},
   "outputs": [
    {
     "name": "stdout",
     "output_type": "stream",
     "text": [
      "149    0.383838\n",
      "734    0.383838\n",
      "154    0.383838\n",
      "658    0.383838\n",
      "696    0.383838\n",
      "         ...   \n",
      "589    0.383838\n",
      "64     0.383838\n",
      "882    0.383838\n",
      "150    0.383838\n",
      "738    0.383838\n",
      "Name: Survived, Length: 298, dtype: float64\n"
     ]
    }
   ],
   "source": [
    "print(Y_train)"
   ]
  },
  {
   "cell_type": "markdown",
   "id": "928e9342-4487-4c2c-8045-70e380d552ae",
   "metadata": {},
   "source": [
    "# 5. Entrenar el modelo configurando los diferentes hiperparámetros. "
   ]
  },
  {
   "cell_type": "code",
   "execution_count": 117,
   "id": "57c84ae5-eed6-45e2-a41f-d8c8ae6e3f24",
   "metadata": {},
   "outputs": [],
   "source": [
    "#Construcción del modelo de Regresión Lineal.\n",
    "modelo_regresion_lineal = LinearRegression()\n",
    "modelo_regresion_lineal.fit (X_train , Y_train)\n",
    "\n",
    "#Creación de modelo de predicción.  \n",
    "Prediccion_clases = [1 if prob >= 0.5 else 0 for prob in Prediccion]\n",
    "Prediccion = modelo_regresion_lineal.predict(X_test)"
   ]
  },
  {
   "cell_type": "code",
   "execution_count": 119,
   "id": "de1c8b2c-ab5b-41f0-8a28-98904202253a",
   "metadata": {},
   "outputs": [
    {
     "name": "stdout",
     "output_type": "stream",
     "text": [
      "[147 147 147 147 147 147 147 147 147 107  55 147 147 147 147  99  95 147\n",
      " 147  52 147 147 147 147 147 147 147 147 147 147 147 147 147 147 147 147\n",
      "  13 147 147 147 147 147 147 147 147 147 147 147 147 108 147  37 147  47\n",
      " 147 135 147  36 147 147 147 147 147 147 147 136 147 147 147  96 147  35\n",
      "  60 130 147 147 147  27 147 147 147 142 124 147  14 147 103 125 147 147\n",
      " 147 147 110 147 147 147  58 147  90 147 147 147  31 147 147 147 147 133\n",
      " 147   8  58 147  86 121  88 147  12  90 147 147 147  93 113 147 147 147\n",
      "  94  45 147 147 147 147 147 147   4 147 147 147 147 147 147 147 147 147\n",
      " 147 147 147 147  41 147 147 147 147 147 147 147 147 147 147 147 147 147\n",
      " 147 147 147  23 147  97 147 147  91 147 121 147 147 147 147 147 145]\n"
     ]
    }
   ],
   "source": [
    "print(Y_test)"
   ]
  },
  {
   "cell_type": "code",
   "execution_count": 121,
   "id": "1cc85851-764d-41f9-940e-789345bbaa6b",
   "metadata": {},
   "outputs": [
    {
     "name": "stdout",
     "output_type": "stream",
     "text": [
      "[1, 1, 1, 1, 1, 1, 1, 1, 1, 1, 1, 1, 1, 1, 1, 1, 1, 1, 1, 1, 1, 1, 1, 1, 1, 1, 1, 1, 1, 1, 1, 1, 1, 1, 1, 1, 1, 1, 1, 1, 1, 1, 1, 1, 1, 1, 1, 1, 1, 1, 1, 1, 1, 1, 1, 1, 1, 1, 1, 1, 1, 1, 1, 1, 1, 1, 1, 1, 1, 1, 1, 1, 1, 1, 1, 1, 1, 1, 1, 1, 1, 1, 1, 1, 1, 1, 1, 1, 1, 1, 1, 1, 1, 1, 1, 1, 1, 1, 1, 1, 1, 1, 1, 1, 1, 1, 1, 1, 1, 1, 1, 1, 1, 1, 1, 1, 1, 1, 1, 1, 1, 1, 1, 1, 1, 1, 1, 1, 1, 1, 1, 1, 1, 1, 1, 1, 1, 1, 1, 1, 1, 1, 1, 1, 1, 1, 1, 1, 1, 1, 1, 1, 1, 1, 1, 1, 1, 1, 1, 1, 1, 1, 1, 1, 1, 1, 1, 1, 1, 1, 1, 1, 1, 1, 1, 1, 1, 1, 1]\n"
     ]
    }
   ],
   "source": [
    "print(Prediccion_clases)"
   ]
  },
  {
   "cell_type": "markdown",
   "id": "32feda06-463e-42b7-9549-96b13fc0e42f",
   "metadata": {},
   "source": [
    "## 6. Evaluar el desempeño del modelo en el conjunto de Test con métricas como presición, recall, F1-score, etc.  "
   ]
  },
  {
   "cell_type": "raw",
   "id": "10f378d1-2e36-4f2a-9774-da719da4b38f",
   "metadata": {},
   "source": [
    "from sklearn.metrics import classification_report\n",
    "\n",
    "print(classification_report(Y_test,Prediccion_clases))"
   ]
  },
  {
   "cell_type": "markdown",
   "id": "76f1be62-4dce-40e6-85a3-ed86b6c0e09e",
   "metadata": {},
   "source": [
    "## 7. Realizar las diferentes graficas que permitan visualizar los resultados del modelo.  "
   ]
  },
  {
   "cell_type": "code",
   "execution_count": 134,
   "id": "0ed5d8f0-9665-4d0c-b258-45b2c2a5043f",
   "metadata": {},
   "outputs": [
    {
     "data": {
      "image/png": "[encoded data removed]",
      "text/plain": [
       "<Figure size 1000x600 with 1 Axes>"
      ]
     },
     "metadata": {},
     "output_type": "display_data"
    }
   ],
   "source": [
    "plt.figure(figsize=(10, 6))\n",
    "plt.scatter(range(len(Y_test)), Y_test, color='blue', label='Valores Reales', alpha=0.6)\n",
    "plt.scatter(range(len(Prediccion_clases)), Prediccion_clases, color='green', label='Predicciones', alpha=0.6)\n",
    "plt.title(\"Resultados del Modelo de Regresión Lineal.\")\n",
    "plt.xlabel(\"Índice\")\n",
    "plt.ylabel(\"Supervivencia (0 = No, 1 = Sí)\")\n",
    "plt.legend()\n",
    "plt.show()"
   ]
  },
  {
   "cell_type": "markdown",
   "id": "2d2bf41f-c2d3-4348-84cd-9dbe10857d9a",
   "metadata": {},
   "source": [
    "## 8. Interpretar, analizar y documentar los resultados obtenidos. "
   ]
  },
  {
   "cell_type": "markdown",
   "id": "c9f6e3e0-9e49-42a6-b568-f5fa755c9541",
   "metadata": {},
   "source": [
    "## En cuanto al desempeño del modelo se puedes afirmar lo siguiente:  \n",
    "* La regresión lineal no es el algoritmo más adecuado para problemas de clasificación binaria, como la supervivencia (0 o 1). En estos casos, se recomienda usar modelos como la regresión logística o métodos de aprendizaje supervisado más avanzados (árboles de decisión, SVM, redes neuronales, etc.).\n",
    "* Este modelo parece haber tenido dificultades para separar las dos clases, ya que predijo casi exclusivamente un solo valor (0).\n",
    "* La alineación de las predicciones en una sola clase podría indicar un desbalance en los datos de entrenamiento. Por ejemplo, si la mayoría de las muestras pertenecen a la clase \"No sobrevivió\", el modelo puede haber aprendido a predecir solo esa clase.\n",
    "* La discrepancia evidente entre los valores reales y las predicciones sugiere que el modelo tiene un desempeño deficiente. Métricas como precisión, recall o F1-score deberían calcularse para confirmar esta observación.\n",
    "\n",
    "**Conclusión y recomendaciones:** El modelo de regresión lineal no es adecuado para este tipo de problema. Se recomienda implementar algoritmos diseñados para clasificación, realizar un análisis exploratorio de los datos y validar el modelo utilizando métricas específicas. \n"
   ]
  }
 ],
 "metadata": {
  "kernelspec": {
   "display_name": "Python 3 (ipykernel)",
   "language": "python",
   "name": "python3"
  },
  "language_info": {
   "codemirror_mode": {
    "name": "ipython",
    "version": 3
   },
   "file_extension": ".py",
   "mimetype": "text/x-python",
   "name": "python",
   "nbconvert_exporter": "python",
   "pygments_lexer": "ipython3",
   "version": "3.12.4"
  }
 },
 "nbformat": 4,
 "nbformat_minor": 5
}
